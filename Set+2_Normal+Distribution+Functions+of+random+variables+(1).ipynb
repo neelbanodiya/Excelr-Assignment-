{
 "cells": [
  {
   "cell_type": "markdown",
   "id": "18cef8d3",
   "metadata": {},
   "source": [
    "# 1.\tThe time required for servicing transmissions is normally distributed with mean = 45 minutes and standard deviation = 8 minutes. The service manager plans to have work begin on the transmission of a customer’s car 10 minutes after the car is dropped off and the customer is told that the car will be ready within 1 hour from drop-off. What is the probability that the service manager cannot meet his commitment?"
   ]
  },
  {
   "cell_type": "code",
   "execution_count": 2,
   "id": "22b184d5",
   "metadata": {},
   "outputs": [],
   "source": [
    "import pandas as pd \n",
    "from scipy.stats import nor\n",
    "import numpy as np"
   ]
  },
  {
   "cell_type": "code",
   "execution_count": 4,
   "id": "f597c5c1",
   "metadata": {},
   "outputs": [
    {
     "data": {
      "text/plain": [
       "0.26598552904870054"
      ]
     },
     "execution_count": 4,
     "metadata": {},
     "output_type": "execute_result"
    }
   ],
   "source": [
    "# We will use cdf for caluculation the probability that service manager cannot meet his commitement \n",
    "# #Let X represent the time required for servicing a transmission, which is normally distributed with\n",
    "# mean (μ) = 45 minutes and standard deviation (σ) = 8 minutes.\n",
    "# The service manager plans to start work 10 minutes after drop-off, \n",
    "# and promises the car will be ready within 1 hour of drop-off.\n",
    "# So the time available for servicing is 1 hour - 10 minutes = 50 minutes.\n",
    "# We want to find P(X > 50 minutes).\n",
    "mean=45\n",
    "standard_deviation=8\n",
    "1-norm.cdf(50,45,8)"
   ]
  },
  {
   "cell_type": "code",
   "execution_count": 5,
   "id": "ce4641d1",
   "metadata": {},
   "outputs": [
    {
     "name": "stdout",
     "output_type": "stream",
     "text": [
      "P(X>50)=0.26598552904870054\n"
     ]
    }
   ],
   "source": [
    "print('P(X>50)=0.26598552904870054')"
   ]
  },
  {
   "cell_type": "markdown",
   "id": "7d8fca95",
   "metadata": {},
   "source": [
    "# 2.The current age (in years) of 400 clerical employees at an insurance claims processing center is normally distributed with mean = 38 and Standard deviation =6. For each statement below, please specify True/False. If false, briefly explain why.\n",
    "# A.\tMore employees at the processing center are older than 44 than between 38 and 44.\n",
    "# B.\tA training program for employees under the age of 30 at the center would be expected to attract about 36 employees.\n"
   ]
  },
  {
   "cell_type": "code",
   "execution_count": null,
   "id": "658b6dd7",
   "metadata": {},
   "outputs": [],
   "source": [
    "# Statement A (True or False)\n",
    "#null_hypothesis= number of people older than 44 > number of people between 38 and 44\n",
    "#Alternate hypothesis=number of people older than 44 < number of people between 38 and 44\n",
    "import matplotlib.pyplot as plt\n",
    "mean = 38\n",
    "std_dev = 6\n",
    "num_employees = 400 \n",
    "\n",
    "a= 1 - norm.cdf(44,38,6)\n",
    "b=(norm.cdf(44,38,6) - norm.cdf(38,38,6))\n",
    "num_above_44 = a * num_employees\n",
    "num_38_to_44 = b * num_employees\n",
    "\n",
    "print(\"Number of Employee above 40 :\",num_above_44) \n",
    "print(\"Number of Employee between 38 to 44 :\",num_38_to_44)\n",
    "print(\"As you can say that Number of Employee between 38-44 is more than Number of Employee older than 40\")\n",
    "print(\"Statement A is False\")\n",
    "ages = np.random.normal(loc=mean, scale=std_dev, size=num_employees) \n",
    "plt.hist(ages, bins=20)\n",
    "plt.xlabel('Age')  \n",
    "plt.ylabel('Frequency')\n",
    "plt.show()"
   ]
  },
  {
   "cell_type": "code",
   "execution_count": null,
   "id": "99cf9b70",
   "metadata": {},
   "outputs": [],
   "source": [
    "# Statement B is True or False \n",
    "# We need to find the number of employees yonger than 30 who can enroll in the training program \n",
    "mean=38 \n",
    "std_dev=6 \n",
    "num_employees=400\n",
    "# We need to find P(X<30) (X be the number of employees)\n",
    "x = norm.cdf(30,38,6)\n",
    "num_below_30 = x * 400 \n",
    "print(num_below_30)\n",
    "print(\"The statement B is true because the number of employee below 30 are approx 36\")"
   ]
  },
  {
   "cell_type": "markdown",
   "id": "4457e901",
   "metadata": {},
   "source": [
    "# 3.\tIf X1 ~ N(μ, σ2) and X2 ~ N(μ, σ2) are  normal random variables, then what is the difference between 2 X1 and X1 + X2? Discuss both their distributions and parameters. "
   ]
  },
  {
   "cell_type": "code",
   "execution_count": null,
   "id": "6fad3d38",
   "metadata": {},
   "outputs": [],
   "source": [
    "#To solve this problem lets assume the mean and variance \n",
    "mean=50 \n",
    "variance=10 \n",
    "\n",
    "# 2X1 ~ (2*mean,(2*std_dev)^2)\n",
    "mean_2X1 = 2 * mean \n",
    "variance_2X1 = (2 * variance) **2\n",
    "\n",
    "# X1 + X2 \n",
    "m = mean + mean \n",
    "n = variance + variance \n",
    "print(mean_2X1)\n",
    "print(variance_2X1)\n",
    "print(\"Mean of X1 + X2:\",m)\n",
    "print(\"Variance of X1 + X2:\",n)\n",
    "print(\"There is a Difference Between mean and variance\")"
   ]
  },
  {
   "cell_type": "markdown",
   "id": "90b2038c",
   "metadata": {},
   "source": [
    "# 4.\tLet X ~ N(100, 202). Find two values, a and b, symmetric about the mean, such that the probability of the random variable taking a value between them is 0.99. "
   ]
  },
  {
   "cell_type": "code",
   "execution_count": null,
   "id": "fe52d054",
   "metadata": {},
   "outputs": [],
   "source": [
    "'''standard deviation = 20 \n",
    "mean = 100\n",
    "We will use Empherical Rule \n",
    "\n",
    "68% - +- of 1 SD \n",
    "95% - +- of 2 SD \n",
    "99% - +- of 3 SD \n",
    "\n",
    "The given probrability is 0.99 which is 99%\n",
    "\n",
    "Mean + 3SD = 160\n",
    "Mean - 3SD = 40\n",
    "So  a= 40 and b=160 '''"
   ]
  },
  {
   "cell_type": "code",
   "execution_count": null,
   "id": "1fabf40b",
   "metadata": {},
   "outputs": [],
   "source": []
  }
 ],
 "metadata": {
  "kernelspec": {
   "display_name": "Python 3 (ipykernel)",
   "language": "python",
   "name": "python3"
  },
  "language_info": {
   "codemirror_mode": {
    "name": "ipython",
    "version": 3
   },
   "file_extension": ".py",
   "mimetype": "text/x-python",
   "name": "python",
   "nbconvert_exporter": "python",
   "pygments_lexer": "ipython3",
   "version": "3.10.9"
  }
 },
 "nbformat": 4,
 "nbformat_minor": 5
}
